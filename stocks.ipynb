{
  "nbformat": 4,
  "nbformat_minor": 0,
  "metadata": {
    "colab": {
      "name": "stocks.ipynb",
      "provenance": [],
      "collapsed_sections": []
    },
    "kernelspec": {
      "name": "python3",
      "display_name": "Python 3"
    },
    "language_info": {
      "name": "python"
    }
  },
  "cells": [
    {
      "cell_type": "code",
      "execution_count": null,
      "metadata": {
        "colab": {
          "base_uri": "https://localhost:8080/"
        },
        "id": "eTC5XnKW_AZq",
        "outputId": "0adf898b-532f-48eb-ad4b-5d0e44dcefaa"
      },
      "outputs": [
        {
          "output_type": "stream",
          "name": "stdout",
          "text": [
            "Collecting yfinance\n",
            "  Downloading yfinance-0.1.67-py2.py3-none-any.whl (25 kB)\n",
            "Requirement already satisfied: multitasking>=0.0.7 in /usr/local/lib/python3.7/dist-packages (from yfinance) (0.0.10)\n",
            "Requirement already satisfied: pandas>=0.24 in /usr/local/lib/python3.7/dist-packages (from yfinance) (1.1.5)\n",
            "Requirement already satisfied: requests>=2.20 in /usr/local/lib/python3.7/dist-packages (from yfinance) (2.23.0)\n",
            "Requirement already satisfied: numpy>=1.15 in /usr/local/lib/python3.7/dist-packages (from yfinance) (1.19.5)\n",
            "Collecting lxml>=4.5.1\n",
            "  Downloading lxml-4.6.4-cp37-cp37m-manylinux_2_17_x86_64.manylinux2014_x86_64.manylinux_2_24_x86_64.whl (6.3 MB)\n",
            "\u001b[K     |████████████████████████████████| 6.3 MB 7.4 MB/s \n",
            "\u001b[?25hRequirement already satisfied: pytz>=2017.2 in /usr/local/lib/python3.7/dist-packages (from pandas>=0.24->yfinance) (2018.9)\n",
            "Requirement already satisfied: python-dateutil>=2.7.3 in /usr/local/lib/python3.7/dist-packages (from pandas>=0.24->yfinance) (2.8.2)\n",
            "Requirement already satisfied: six>=1.5 in /usr/local/lib/python3.7/dist-packages (from python-dateutil>=2.7.3->pandas>=0.24->yfinance) (1.15.0)\n",
            "Requirement already satisfied: urllib3!=1.25.0,!=1.25.1,<1.26,>=1.21.1 in /usr/local/lib/python3.7/dist-packages (from requests>=2.20->yfinance) (1.24.3)\n",
            "Requirement already satisfied: certifi>=2017.4.17 in /usr/local/lib/python3.7/dist-packages (from requests>=2.20->yfinance) (2021.10.8)\n",
            "Requirement already satisfied: idna<3,>=2.5 in /usr/local/lib/python3.7/dist-packages (from requests>=2.20->yfinance) (2.10)\n",
            "Requirement already satisfied: chardet<4,>=3.0.2 in /usr/local/lib/python3.7/dist-packages (from requests>=2.20->yfinance) (3.0.4)\n",
            "Installing collected packages: lxml, yfinance\n",
            "  Attempting uninstall: lxml\n",
            "    Found existing installation: lxml 4.2.6\n",
            "    Uninstalling lxml-4.2.6:\n",
            "      Successfully uninstalled lxml-4.2.6\n",
            "Successfully installed lxml-4.6.4 yfinance-0.1.67\n",
            "Collecting yahoofinancials\n",
            "  Downloading yahoofinancials-1.6.tar.gz (27 kB)\n",
            "Requirement already satisfied: beautifulsoup4 in /usr/local/lib/python3.7/dist-packages (from yahoofinancials) (4.6.3)\n",
            "Requirement already satisfied: pytz in /usr/local/lib/python3.7/dist-packages (from yahoofinancials) (2018.9)\n",
            "Building wheels for collected packages: yahoofinancials\n",
            "  Building wheel for yahoofinancials (setup.py) ... \u001b[?25l\u001b[?25hdone\n",
            "  Created wheel for yahoofinancials: filename=yahoofinancials-1.6-py3-none-any.whl size=15190 sha256=cf0c133ca2dc489ed42b5bb25f7ee78931ea3aa152006347c2dfa66ae1269bfa\n",
            "  Stored in directory: /root/.cache/pip/wheels/4b/63/46/e7110bfee88685fe69e338d1b14d1748921862aa57b6705b60\n",
            "Successfully built yahoofinancials\n",
            "Installing collected packages: yahoofinancials\n",
            "Successfully installed yahoofinancials-1.6\n"
          ]
        }
      ],
      "source": [
        "!pip install yfinance\n",
        "!pip install yahoofinancials"
      ]
    },
    {
      "cell_type": "code",
      "source": [
        "import numpy as np\n",
        "import pandas as pd\n",
        "import matplotlib.pyplot as plt\n",
        "import yfinance as yf\n",
        "from yahoofinancials import YahooFinancials"
      ],
      "metadata": {
        "id": "HfZN-ddY_V6P"
      },
      "execution_count": null,
      "outputs": []
    },
    {
      "cell_type": "code",
      "source": [
        "start = '2010-01-01'\n",
        "end = '2019-12-31'\n",
        "df = yf.download('TCS.NS', \n",
        "                      start, \n",
        "                      end, \n",
        "                      progress=False,\n",
        ")\n",
        "df.head()"
      ],
      "metadata": {
        "colab": {
          "base_uri": "https://localhost:8080/",
          "height": 238
        },
        "id": "m9SVbtxL_t32",
        "outputId": "a35db4b3-08d9-447e-b0a9-02798a2dc0f0"
      },
      "execution_count": null,
      "outputs": [
        {
          "output_type": "execute_result",
          "data": {
            "text/html": [
              "<div>\n",
              "<style scoped>\n",
              "    .dataframe tbody tr th:only-of-type {\n",
              "        vertical-align: middle;\n",
              "    }\n",
              "\n",
              "    .dataframe tbody tr th {\n",
              "        vertical-align: top;\n",
              "    }\n",
              "\n",
              "    .dataframe thead th {\n",
              "        text-align: right;\n",
              "    }\n",
              "</style>\n",
              "<table border=\"1\" class=\"dataframe\">\n",
              "  <thead>\n",
              "    <tr style=\"text-align: right;\">\n",
              "      <th></th>\n",
              "      <th>Open</th>\n",
              "      <th>High</th>\n",
              "      <th>Low</th>\n",
              "      <th>Close</th>\n",
              "      <th>Adj Close</th>\n",
              "      <th>Volume</th>\n",
              "    </tr>\n",
              "    <tr>\n",
              "      <th>Date</th>\n",
              "      <th></th>\n",
              "      <th></th>\n",
              "      <th></th>\n",
              "      <th></th>\n",
              "      <th></th>\n",
              "      <th></th>\n",
              "    </tr>\n",
              "  </thead>\n",
              "  <tbody>\n",
              "    <tr>\n",
              "      <th>2010-01-04</th>\n",
              "      <td>377.399994</td>\n",
              "      <td>379.450012</td>\n",
              "      <td>374.524994</td>\n",
              "      <td>375.825012</td>\n",
              "      <td>299.748260</td>\n",
              "      <td>1963682</td>\n",
              "    </tr>\n",
              "    <tr>\n",
              "      <th>2010-01-05</th>\n",
              "      <td>377.500000</td>\n",
              "      <td>379.774994</td>\n",
              "      <td>373.274994</td>\n",
              "      <td>375.924988</td>\n",
              "      <td>299.827972</td>\n",
              "      <td>2014488</td>\n",
              "    </tr>\n",
              "    <tr>\n",
              "      <th>2010-01-06</th>\n",
              "      <td>375.924988</td>\n",
              "      <td>376.100006</td>\n",
              "      <td>366.500000</td>\n",
              "      <td>367.424988</td>\n",
              "      <td>293.048584</td>\n",
              "      <td>3349176</td>\n",
              "    </tr>\n",
              "    <tr>\n",
              "      <th>2010-01-07</th>\n",
              "      <td>367.750000</td>\n",
              "      <td>369.700012</td>\n",
              "      <td>355.500000</td>\n",
              "      <td>357.200012</td>\n",
              "      <td>284.893402</td>\n",
              "      <td>6474892</td>\n",
              "    </tr>\n",
              "    <tr>\n",
              "      <th>2010-01-08</th>\n",
              "      <td>358.000000</td>\n",
              "      <td>359.250000</td>\n",
              "      <td>348.250000</td>\n",
              "      <td>349.899994</td>\n",
              "      <td>279.071136</td>\n",
              "      <td>6048178</td>\n",
              "    </tr>\n",
              "  </tbody>\n",
              "</table>\n",
              "</div>"
            ],
            "text/plain": [
              "                  Open        High         Low       Close   Adj Close   Volume\n",
              "Date                                                                           \n",
              "2010-01-04  377.399994  379.450012  374.524994  375.825012  299.748260  1963682\n",
              "2010-01-05  377.500000  379.774994  373.274994  375.924988  299.827972  2014488\n",
              "2010-01-06  375.924988  376.100006  366.500000  367.424988  293.048584  3349176\n",
              "2010-01-07  367.750000  369.700012  355.500000  357.200012  284.893402  6474892\n",
              "2010-01-08  358.000000  359.250000  348.250000  349.899994  279.071136  6048178"
            ]
          },
          "metadata": {},
          "execution_count": 3
        }
      ]
    },
    {
      "cell_type": "code",
      "source": [
        "df.tail()"
      ],
      "metadata": {
        "colab": {
          "base_uri": "https://localhost:8080/",
          "height": 238
        },
        "id": "4Oawdt25_4Yy",
        "outputId": "a0404727-db93-4f56-9a84-bfee3f910d68"
      },
      "execution_count": null,
      "outputs": [
        {
          "output_type": "execute_result",
          "data": {
            "text/html": [
              "<div>\n",
              "<style scoped>\n",
              "    .dataframe tbody tr th:only-of-type {\n",
              "        vertical-align: middle;\n",
              "    }\n",
              "\n",
              "    .dataframe tbody tr th {\n",
              "        vertical-align: top;\n",
              "    }\n",
              "\n",
              "    .dataframe thead th {\n",
              "        text-align: right;\n",
              "    }\n",
              "</style>\n",
              "<table border=\"1\" class=\"dataframe\">\n",
              "  <thead>\n",
              "    <tr style=\"text-align: right;\">\n",
              "      <th></th>\n",
              "      <th>Open</th>\n",
              "      <th>High</th>\n",
              "      <th>Low</th>\n",
              "      <th>Close</th>\n",
              "      <th>Adj Close</th>\n",
              "      <th>Volume</th>\n",
              "    </tr>\n",
              "    <tr>\n",
              "      <th>Date</th>\n",
              "      <th></th>\n",
              "      <th></th>\n",
              "      <th></th>\n",
              "      <th></th>\n",
              "      <th></th>\n",
              "      <th></th>\n",
              "    </tr>\n",
              "  </thead>\n",
              "  <tbody>\n",
              "    <tr>\n",
              "      <th>2019-12-23</th>\n",
              "      <td>2210.000000</td>\n",
              "      <td>2241.949951</td>\n",
              "      <td>2210.000000</td>\n",
              "      <td>2231.699951</td>\n",
              "      <td>2166.054443</td>\n",
              "      <td>2247329</td>\n",
              "    </tr>\n",
              "    <tr>\n",
              "      <th>2019-12-24</th>\n",
              "      <td>2239.000000</td>\n",
              "      <td>2243.550049</td>\n",
              "      <td>2211.149902</td>\n",
              "      <td>2215.600098</td>\n",
              "      <td>2150.428955</td>\n",
              "      <td>1805896</td>\n",
              "    </tr>\n",
              "    <tr>\n",
              "      <th>2019-12-26</th>\n",
              "      <td>2216.399902</td>\n",
              "      <td>2229.000000</td>\n",
              "      <td>2195.199951</td>\n",
              "      <td>2201.949951</td>\n",
              "      <td>2137.180176</td>\n",
              "      <td>1880367</td>\n",
              "    </tr>\n",
              "    <tr>\n",
              "      <th>2019-12-27</th>\n",
              "      <td>2208.000000</td>\n",
              "      <td>2226.399902</td>\n",
              "      <td>2176.000000</td>\n",
              "      <td>2198.500000</td>\n",
              "      <td>2133.831543</td>\n",
              "      <td>2720261</td>\n",
              "    </tr>\n",
              "    <tr>\n",
              "      <th>2019-12-30</th>\n",
              "      <td>2207.000000</td>\n",
              "      <td>2225.000000</td>\n",
              "      <td>2177.100098</td>\n",
              "      <td>2183.199951</td>\n",
              "      <td>2118.981445</td>\n",
              "      <td>2288830</td>\n",
              "    </tr>\n",
              "  </tbody>\n",
              "</table>\n",
              "</div>"
            ],
            "text/plain": [
              "                   Open         High  ...    Adj Close   Volume\n",
              "Date                                  ...                      \n",
              "2019-12-23  2210.000000  2241.949951  ...  2166.054443  2247329\n",
              "2019-12-24  2239.000000  2243.550049  ...  2150.428955  1805896\n",
              "2019-12-26  2216.399902  2229.000000  ...  2137.180176  1880367\n",
              "2019-12-27  2208.000000  2226.399902  ...  2133.831543  2720261\n",
              "2019-12-30  2207.000000  2225.000000  ...  2118.981445  2288830\n",
              "\n",
              "[5 rows x 6 columns]"
            ]
          },
          "metadata": {},
          "execution_count": 4
        }
      ]
    },
    {
      "cell_type": "code",
      "source": [
        "df = df.reset_index()\n",
        "df.head()"
      ],
      "metadata": {
        "colab": {
          "base_uri": "https://localhost:8080/",
          "height": 206
        },
        "id": "KEYJOfz7_7py",
        "outputId": "b3539f50-c74a-4482-b061-f91c3bf3316a"
      },
      "execution_count": null,
      "outputs": [
        {
          "output_type": "execute_result",
          "data": {
            "text/html": [
              "<div>\n",
              "<style scoped>\n",
              "    .dataframe tbody tr th:only-of-type {\n",
              "        vertical-align: middle;\n",
              "    }\n",
              "\n",
              "    .dataframe tbody tr th {\n",
              "        vertical-align: top;\n",
              "    }\n",
              "\n",
              "    .dataframe thead th {\n",
              "        text-align: right;\n",
              "    }\n",
              "</style>\n",
              "<table border=\"1\" class=\"dataframe\">\n",
              "  <thead>\n",
              "    <tr style=\"text-align: right;\">\n",
              "      <th></th>\n",
              "      <th>Date</th>\n",
              "      <th>Open</th>\n",
              "      <th>High</th>\n",
              "      <th>Low</th>\n",
              "      <th>Close</th>\n",
              "      <th>Adj Close</th>\n",
              "      <th>Volume</th>\n",
              "    </tr>\n",
              "  </thead>\n",
              "  <tbody>\n",
              "    <tr>\n",
              "      <th>0</th>\n",
              "      <td>2010-01-04</td>\n",
              "      <td>377.399994</td>\n",
              "      <td>379.450012</td>\n",
              "      <td>374.524994</td>\n",
              "      <td>375.825012</td>\n",
              "      <td>299.748260</td>\n",
              "      <td>1963682</td>\n",
              "    </tr>\n",
              "    <tr>\n",
              "      <th>1</th>\n",
              "      <td>2010-01-05</td>\n",
              "      <td>377.500000</td>\n",
              "      <td>379.774994</td>\n",
              "      <td>373.274994</td>\n",
              "      <td>375.924988</td>\n",
              "      <td>299.827972</td>\n",
              "      <td>2014488</td>\n",
              "    </tr>\n",
              "    <tr>\n",
              "      <th>2</th>\n",
              "      <td>2010-01-06</td>\n",
              "      <td>375.924988</td>\n",
              "      <td>376.100006</td>\n",
              "      <td>366.500000</td>\n",
              "      <td>367.424988</td>\n",
              "      <td>293.048584</td>\n",
              "      <td>3349176</td>\n",
              "    </tr>\n",
              "    <tr>\n",
              "      <th>3</th>\n",
              "      <td>2010-01-07</td>\n",
              "      <td>367.750000</td>\n",
              "      <td>369.700012</td>\n",
              "      <td>355.500000</td>\n",
              "      <td>357.200012</td>\n",
              "      <td>284.893402</td>\n",
              "      <td>6474892</td>\n",
              "    </tr>\n",
              "    <tr>\n",
              "      <th>4</th>\n",
              "      <td>2010-01-08</td>\n",
              "      <td>358.000000</td>\n",
              "      <td>359.250000</td>\n",
              "      <td>348.250000</td>\n",
              "      <td>349.899994</td>\n",
              "      <td>279.071136</td>\n",
              "      <td>6048178</td>\n",
              "    </tr>\n",
              "  </tbody>\n",
              "</table>\n",
              "</div>"
            ],
            "text/plain": [
              "        Date        Open        High  ...       Close   Adj Close   Volume\n",
              "0 2010-01-04  377.399994  379.450012  ...  375.825012  299.748260  1963682\n",
              "1 2010-01-05  377.500000  379.774994  ...  375.924988  299.827972  2014488\n",
              "2 2010-01-06  375.924988  376.100006  ...  367.424988  293.048584  3349176\n",
              "3 2010-01-07  367.750000  369.700012  ...  357.200012  284.893402  6474892\n",
              "4 2010-01-08  358.000000  359.250000  ...  349.899994  279.071136  6048178\n",
              "\n",
              "[5 rows x 7 columns]"
            ]
          },
          "metadata": {},
          "execution_count": 5
        }
      ]
    },
    {
      "cell_type": "code",
      "source": [
        "df = df.drop(['Date','Adj Close'],axis=1)\n",
        "df.head()"
      ],
      "metadata": {
        "colab": {
          "base_uri": "https://localhost:8080/",
          "height": 206
        },
        "id": "nkquDXD5_-o-",
        "outputId": "ab98dae9-6f00-4036-9d89-06e3c5214b2c"
      },
      "execution_count": null,
      "outputs": [
        {
          "output_type": "execute_result",
          "data": {
            "text/html": [
              "<div>\n",
              "<style scoped>\n",
              "    .dataframe tbody tr th:only-of-type {\n",
              "        vertical-align: middle;\n",
              "    }\n",
              "\n",
              "    .dataframe tbody tr th {\n",
              "        vertical-align: top;\n",
              "    }\n",
              "\n",
              "    .dataframe thead th {\n",
              "        text-align: right;\n",
              "    }\n",
              "</style>\n",
              "<table border=\"1\" class=\"dataframe\">\n",
              "  <thead>\n",
              "    <tr style=\"text-align: right;\">\n",
              "      <th></th>\n",
              "      <th>Open</th>\n",
              "      <th>High</th>\n",
              "      <th>Low</th>\n",
              "      <th>Close</th>\n",
              "      <th>Volume</th>\n",
              "    </tr>\n",
              "  </thead>\n",
              "  <tbody>\n",
              "    <tr>\n",
              "      <th>0</th>\n",
              "      <td>377.399994</td>\n",
              "      <td>379.450012</td>\n",
              "      <td>374.524994</td>\n",
              "      <td>375.825012</td>\n",
              "      <td>1963682</td>\n",
              "    </tr>\n",
              "    <tr>\n",
              "      <th>1</th>\n",
              "      <td>377.500000</td>\n",
              "      <td>379.774994</td>\n",
              "      <td>373.274994</td>\n",
              "      <td>375.924988</td>\n",
              "      <td>2014488</td>\n",
              "    </tr>\n",
              "    <tr>\n",
              "      <th>2</th>\n",
              "      <td>375.924988</td>\n",
              "      <td>376.100006</td>\n",
              "      <td>366.500000</td>\n",
              "      <td>367.424988</td>\n",
              "      <td>3349176</td>\n",
              "    </tr>\n",
              "    <tr>\n",
              "      <th>3</th>\n",
              "      <td>367.750000</td>\n",
              "      <td>369.700012</td>\n",
              "      <td>355.500000</td>\n",
              "      <td>357.200012</td>\n",
              "      <td>6474892</td>\n",
              "    </tr>\n",
              "    <tr>\n",
              "      <th>4</th>\n",
              "      <td>358.000000</td>\n",
              "      <td>359.250000</td>\n",
              "      <td>348.250000</td>\n",
              "      <td>349.899994</td>\n",
              "      <td>6048178</td>\n",
              "    </tr>\n",
              "  </tbody>\n",
              "</table>\n",
              "</div>"
            ],
            "text/plain": [
              "         Open        High         Low       Close   Volume\n",
              "0  377.399994  379.450012  374.524994  375.825012  1963682\n",
              "1  377.500000  379.774994  373.274994  375.924988  2014488\n",
              "2  375.924988  376.100006  366.500000  367.424988  3349176\n",
              "3  367.750000  369.700012  355.500000  357.200012  6474892\n",
              "4  358.000000  359.250000  348.250000  349.899994  6048178"
            ]
          },
          "metadata": {},
          "execution_count": 6
        }
      ]
    },
    {
      "cell_type": "code",
      "source": [
        "plt.plot(df.Close)"
      ],
      "metadata": {
        "colab": {
          "base_uri": "https://localhost:8080/",
          "height": 282
        },
        "id": "phcMwL1YACAi",
        "outputId": "e217a7b0-7664-41fa-ecfd-9cda3ecd1393"
      },
      "execution_count": null,
      "outputs": [
        {
          "output_type": "execute_result",
          "data": {
            "text/plain": [
              "[<matplotlib.lines.Line2D at 0x7f164b2e62d0>]"
            ]
          },
          "metadata": {},
          "execution_count": 7
        },
        {
          "output_type": "display_data",
          "data": {
            "image/png": "[encoded data removed]",
            "text/plain": [
              "<Figure size 432x288 with 1 Axes>"
            ]
          },
          "metadata": {
            "needs_background": "light"
          }
        }
      ]
    },
    {
      "cell_type": "code",
      "source": [
        "ma100 = df.Close.rolling(100).mean()\n",
        "ma100"
      ],
      "metadata": {
        "colab": {
          "base_uri": "https://localhost:8080/"
        },
        "id": "B_sCcRc1AF5P",
        "outputId": "5a5559f3-284a-4b63-bb5b-e29310ff91b0"
      },
      "execution_count": null,
      "outputs": [
        {
          "output_type": "execute_result",
          "data": {
            "text/plain": [
              "0               NaN\n",
              "1               NaN\n",
              "2               NaN\n",
              "3               NaN\n",
              "4               NaN\n",
              "           ...     \n",
              "2456    2136.080504\n",
              "2457    2136.957506\n",
              "2458    2137.886505\n",
              "2459    2138.571505\n",
              "2460    2138.612006\n",
              "Name: Close, Length: 2461, dtype: float64"
            ]
          },
          "metadata": {},
          "execution_count": 8
        }
      ]
    },
    {
      "cell_type": "code",
      "source": [
        "plt.figure(figsize=(12,6))\n",
        "plt.plot(df.Close)\n",
        "plt.plot(ma100,'r')"
      ],
      "metadata": {
        "colab": {
          "base_uri": "https://localhost:8080/",
          "height": 391
        },
        "id": "eDG2vTwsAI4N",
        "outputId": "a4f0b3e4-a896-4c4f-ff34-cc88afac3ec6"
      },
      "execution_count": null,
      "outputs": [
        {
          "output_type": "execute_result",
          "data": {
            "text/plain": [
              "[<matplotlib.lines.Line2D at 0x7f164a34cf90>]"
            ]
          },
          "metadata": {},
          "execution_count": 9
        },
        {
          "output_type": "display_data",
          "data": {
            "image/png": "[encoded data removed]",
            "text/plain": [
              "<Figure size 864x432 with 1 Axes>"
            ]
          },
          "metadata": {
            "needs_background": "light"
          }
        }
      ]
    },
    {
      "cell_type": "code",
      "source": [
        "ma200 = df.Close.rolling(200).mean()\n",
        "ma200"
      ],
      "metadata": {
        "colab": {
          "base_uri": "https://localhost:8080/"
        },
        "id": "s_EarecgALqp",
        "outputId": "5c9d0686-bf87-42e1-98ef-231713547942"
      },
      "execution_count": null,
      "outputs": [
        {
          "output_type": "execute_result",
          "data": {
            "text/plain": [
              "0               NaN\n",
              "1               NaN\n",
              "2               NaN\n",
              "3               NaN\n",
              "4               NaN\n",
              "           ...     \n",
              "2456    2128.343507\n",
              "2457    2129.495757\n",
              "2458    2130.312007\n",
              "2459    2131.014007\n",
              "2460    2132.012757\n",
              "Name: Close, Length: 2461, dtype: float64"
            ]
          },
          "metadata": {},
          "execution_count": 10
        }
      ]
    },
    {
      "cell_type": "code",
      "source": [
        "plt.figure(figsize=(12,6))\n",
        "plt.plot(df.Close)\n",
        "plt.plot(ma100,'r')\n",
        "plt.plot(ma200,'g')"
      ],
      "metadata": {
        "colab": {
          "base_uri": "https://localhost:8080/",
          "height": 391
        },
        "id": "G4BHbC6uAOax",
        "outputId": "0516d876-d4a2-45b9-f269-7aa8a40ddb86"
      },
      "execution_count": null,
      "outputs": [
        {
          "output_type": "execute_result",
          "data": {
            "text/plain": [
              "[<matplotlib.lines.Line2D at 0x7f164a2c7cd0>]"
            ]
          },
          "metadata": {},
          "execution_count": 11
        },
        {
          "output_type": "display_data",
          "data": {
            "image/png": "[encoded data removed]",
            "text/plain": [
              "<Figure size 864x432 with 1 Axes>"
            ]
          },
          "metadata": {
            "needs_background": "light"
          }
        }
      ]
    },
    {
      "cell_type": "code",
      "source": [
        "df.shape"
      ],
      "metadata": {
        "colab": {
          "base_uri": "https://localhost:8080/"
        },
        "id": "YM1qRmi_AQFR",
        "outputId": "2783a17a-8418-4c90-a174-a263a3358bb6"
      },
      "execution_count": null,
      "outputs": [
        {
          "output_type": "execute_result",
          "data": {
            "text/plain": [
              "(2461, 5)"
            ]
          },
          "metadata": {},
          "execution_count": 12
        }
      ]
    },
    {
      "cell_type": "code",
      "source": [
        "#Spliting Data into Training and Testing\n",
        "\n",
        "data_training = pd.DataFrame(df['Close'][0:int(len(df)*0.7)])\n",
        "data_testing = pd.DataFrame(df['Close'][int(len(df)*0.7):int(len(df))])\n",
        "\n",
        "print(data_training.shape)\n",
        "print(data_testing.shape)"
      ],
      "metadata": {
        "colab": {
          "base_uri": "https://localhost:8080/"
        },
        "id": "PwC9reXJAWRo",
        "outputId": "fcd07473-18fd-4a0f-c5a8-7092d46c6722"
      },
      "execution_count": null,
      "outputs": [
        {
          "output_type": "stream",
          "name": "stdout",
          "text": [
            "(1722, 1)\n",
            "(739, 1)\n"
          ]
        }
      ]
    },
    {
      "cell_type": "code",
      "source": [
        "data_training.head()"
      ],
      "metadata": {
        "colab": {
          "base_uri": "https://localhost:8080/",
          "height": 206
        },
        "id": "rG-0KBCrAXvA",
        "outputId": "5995bb54-df87-4a75-a2ab-dfcf997ed802"
      },
      "execution_count": null,
      "outputs": [
        {
          "output_type": "execute_result",
          "data": {
            "text/html": [
              "<div>\n",
              "<style scoped>\n",
              "    .dataframe tbody tr th:only-of-type {\n",
              "        vertical-align: middle;\n",
              "    }\n",
              "\n",
              "    .dataframe tbody tr th {\n",
              "        vertical-align: top;\n",
              "    }\n",
              "\n",
              "    .dataframe thead th {\n",
              "        text-align: right;\n",
              "    }\n",
              "</style>\n",
              "<table border=\"1\" class=\"dataframe\">\n",
              "  <thead>\n",
              "    <tr style=\"text-align: right;\">\n",
              "      <th></th>\n",
              "      <th>Close</th>\n",
              "    </tr>\n",
              "  </thead>\n",
              "  <tbody>\n",
              "    <tr>\n",
              "      <th>0</th>\n",
              "      <td>375.825012</td>\n",
              "    </tr>\n",
              "    <tr>\n",
              "      <th>1</th>\n",
              "      <td>375.924988</td>\n",
              "    </tr>\n",
              "    <tr>\n",
              "      <th>2</th>\n",
              "      <td>367.424988</td>\n",
              "    </tr>\n",
              "    <tr>\n",
              "      <th>3</th>\n",
              "      <td>357.200012</td>\n",
              "    </tr>\n",
              "    <tr>\n",
              "      <th>4</th>\n",
              "      <td>349.899994</td>\n",
              "    </tr>\n",
              "  </tbody>\n",
              "</table>\n",
              "</div>"
            ],
            "text/plain": [
              "        Close\n",
              "0  375.825012\n",
              "1  375.924988\n",
              "2  367.424988\n",
              "3  357.200012\n",
              "4  349.899994"
            ]
          },
          "metadata": {},
          "execution_count": 14
        }
      ]
    },
    {
      "cell_type": "code",
      "source": [
        "data_testing.head()"
      ],
      "metadata": {
        "colab": {
          "base_uri": "https://localhost:8080/",
          "height": 206
        },
        "id": "mgdd-xIeAanH",
        "outputId": "1f17f048-516c-46b7-f703-a2ec44ed6132"
      },
      "execution_count": null,
      "outputs": [
        {
          "output_type": "execute_result",
          "data": {
            "text/html": [
              "<div>\n",
              "<style scoped>\n",
              "    .dataframe tbody tr th:only-of-type {\n",
              "        vertical-align: middle;\n",
              "    }\n",
              "\n",
              "    .dataframe tbody tr th {\n",
              "        vertical-align: top;\n",
              "    }\n",
              "\n",
              "    .dataframe thead th {\n",
              "        text-align: right;\n",
              "    }\n",
              "</style>\n",
              "<table border=\"1\" class=\"dataframe\">\n",
              "  <thead>\n",
              "    <tr style=\"text-align: right;\">\n",
              "      <th></th>\n",
              "      <th>Close</th>\n",
              "    </tr>\n",
              "  </thead>\n",
              "  <tbody>\n",
              "    <tr>\n",
              "      <th>1722</th>\n",
              "      <td>1156.699951</td>\n",
              "    </tr>\n",
              "    <tr>\n",
              "      <th>1723</th>\n",
              "      <td>1175.849976</td>\n",
              "    </tr>\n",
              "    <tr>\n",
              "      <th>1724</th>\n",
              "      <td>1182.775024</td>\n",
              "    </tr>\n",
              "    <tr>\n",
              "      <th>1725</th>\n",
              "      <td>1180.675049</td>\n",
              "    </tr>\n",
              "    <tr>\n",
              "      <th>1726</th>\n",
              "      <td>1184.125000</td>\n",
              "    </tr>\n",
              "  </tbody>\n",
              "</table>\n",
              "</div>"
            ],
            "text/plain": [
              "            Close\n",
              "1722  1156.699951\n",
              "1723  1175.849976\n",
              "1724  1182.775024\n",
              "1725  1180.675049\n",
              "1726  1184.125000"
            ]
          },
          "metadata": {},
          "execution_count": 15
        }
      ]
    },
    {
      "cell_type": "code",
      "source": [
        "from sklearn.preprocessing import MinMaxScaler\n",
        "scaler = MinMaxScaler(feature_range=(0,1))"
      ],
      "metadata": {
        "id": "3E80sy46AhA0"
      },
      "execution_count": null,
      "outputs": []
    },
    {
      "cell_type": "code",
      "source": [
        "data_training_array = scaler.fit_transform(data_training)\n",
        "data_training_array"
      ],
      "metadata": {
        "colab": {
          "base_uri": "https://localhost:8080/"
        },
        "id": "ZzhQo16vAj-s",
        "outputId": "237fb41a-ee4e-44f6-b6a9-be4d65b05a98"
      },
      "execution_count": null,
      "outputs": [
        {
          "output_type": "execute_result",
          "data": {
            "text/plain": [
              "array([[0.02509092],\n",
              "       [0.02518721],\n",
              "       [0.01700016],\n",
              "       ...,\n",
              "       [0.76503171],\n",
              "       [0.76743967],\n",
              "       [0.78203179]])"
            ]
          },
          "metadata": {},
          "execution_count": 17
        }
      ]
    },
    {
      "cell_type": "code",
      "source": [
        "data_training_array.shape"
      ],
      "metadata": {
        "colab": {
          "base_uri": "https://localhost:8080/"
        },
        "id": "03WFlAtMAmno",
        "outputId": "372db144-a88e-49e5-a584-16a8552e57ff"
      },
      "execution_count": null,
      "outputs": [
        {
          "output_type": "execute_result",
          "data": {
            "text/plain": [
              "(1722, 1)"
            ]
          },
          "metadata": {},
          "execution_count": 18
        }
      ]
    },
    {
      "cell_type": "code",
      "source": [
        "x_train = []\n",
        "y_train = []\n",
        "for i in range(100,data_training_array.shape[0]):\n",
        "  x_train.append(data_training_array[i-100:i])\n",
        "  y_train.append(data_training_array[i,0])\n",
        "\n",
        "x_train,y_train = np.array(x_train), np.array(y_train)"
      ],
      "metadata": {
        "id": "Fg35AzjJAp-a"
      },
      "execution_count": null,
      "outputs": []
    },
    {
      "cell_type": "markdown",
      "source": [
        "ML Model"
      ],
      "metadata": {
        "id": "t5H_rqdwAs6D"
      }
    },
    {
      "cell_type": "code",
      "source": [
        "from keras.layers import Dense, Dropout, LSTM\n",
        "from keras.models import Sequential"
      ],
      "metadata": {
        "id": "Yca5yYDaAvKm"
      },
      "execution_count": null,
      "outputs": []
    },
    {
      "cell_type": "code",
      "source": [
        "model = Sequential()\n",
        "model.add(LSTM(units=50, activation= 'relu', return_sequences=True, input_shape= (x_train.shape[1],1)))\n",
        "model.add(Dropout(0.2))\n",
        "\n",
        "model.add(LSTM(units=60, activation= 'relu', return_sequences=True))\n",
        "model.add(Dropout(0.3))\n",
        "\n",
        "model.add(LSTM(units=80, activation= 'relu', return_sequences=True))\n",
        "model.add(Dropout(0.4))\n",
        "\n",
        "model.add(LSTM(units=120, activation= 'relu'))\n",
        "model.add(Dropout(0.5))\n",
        "\n",
        "model.add(Dense(units = 1))"
      ],
      "metadata": {
        "id": "y3gquu0AA2Rq"
      },
      "execution_count": null,
      "outputs": []
    },
    {
      "cell_type": "code",
      "source": [
        "model.summary()"
      ],
      "metadata": {
        "colab": {
          "base_uri": "https://localhost:8080/"
        },
        "id": "ixof-rv2A3t8",
        "outputId": "1e4740a6-397a-4bf9-a5b3-b16b26d61537"
      },
      "execution_count": null,
      "outputs": [
        {
          "output_type": "stream",
          "name": "stdout",
          "text": [
            "Model: \"sequential\"\n",
            "_________________________________________________________________\n",
            " Layer (type)                Output Shape              Param #   \n",
            "=================================================================\n",
            " lstm (LSTM)                 (None, 100, 50)           10400     \n",
            "                                                                 \n",
            " dropout (Dropout)           (None, 100, 50)           0         \n",
            "                                                                 \n",
            " lstm_1 (LSTM)               (None, 100, 60)           26640     \n",
            "                                                                 \n",
            " dropout_1 (Dropout)         (None, 100, 60)           0         \n",
            "                                                                 \n",
            " lstm_2 (LSTM)               (None, 100, 80)           45120     \n",
            "                                                                 \n",
            " dropout_2 (Dropout)         (None, 100, 80)           0         \n",
            "                                                                 \n",
            " lstm_3 (LSTM)               (None, 120)               96480     \n",
            "                                                                 \n",
            " dropout_3 (Dropout)         (None, 120)               0         \n",
            "                                                                 \n",
            " dense (Dense)               (None, 1)                 121       \n",
            "                                                                 \n",
            "=================================================================\n",
            "Total params: 178,761\n",
            "Trainable params: 178,761\n",
            "Non-trainable params: 0\n",
            "_________________________________________________________________\n"
          ]
        }
      ]
    },
    {
      "cell_type": "code",
      "source": [
        "model.compile(optimizer='adam', loss='mean_squared_error')\n",
        "model.fit(x_train, y_train, epochs = 50)"
      ],
      "metadata": {
        "colab": {
          "base_uri": "https://localhost:8080/"
        },
        "id": "wy3FvhwcA6za",
        "outputId": "b49adb98-7bd1-4e01-83f7-38b8ace9f541"
      },
      "execution_count": null,
      "outputs": [
        {
          "output_type": "stream",
          "name": "stdout",
          "text": [
            "Epoch 1/50\n",
            "51/51 [==============================] - 18s 269ms/step - loss: 0.0856\n",
            "Epoch 2/50\n",
            "51/51 [==============================] - 14s 269ms/step - loss: 0.0149\n",
            "Epoch 3/50\n",
            "51/51 [==============================] - 14s 270ms/step - loss: 0.0118\n",
            "Epoch 4/50\n",
            "51/51 [==============================] - 14s 271ms/step - loss: 0.0111\n",
            "Epoch 5/50\n",
            "51/51 [==============================] - 14s 271ms/step - loss: 0.0104\n",
            "Epoch 6/50\n",
            "51/51 [==============================] - 14s 271ms/step - loss: 0.0110\n",
            "Epoch 7/50\n",
            "51/51 [==============================] - 14s 271ms/step - loss: 0.0100\n",
            "Epoch 8/50\n",
            "51/51 [==============================] - 14s 270ms/step - loss: 0.0089\n",
            "Epoch 9/50\n",
            "51/51 [==============================] - 14s 270ms/step - loss: 0.0079\n",
            "Epoch 10/50\n",
            "51/51 [==============================] - 14s 265ms/step - loss: 0.0083\n",
            "Epoch 11/50\n",
            "51/51 [==============================] - 14s 267ms/step - loss: 0.0079\n",
            "Epoch 12/50\n",
            "51/51 [==============================] - 14s 266ms/step - loss: 0.0077\n",
            "Epoch 13/50\n",
            "51/51 [==============================] - 14s 267ms/step - loss: 0.0074\n",
            "Epoch 14/50\n",
            "51/51 [==============================] - 14s 267ms/step - loss: 0.0075\n",
            "Epoch 15/50\n",
            "51/51 [==============================] - 14s 265ms/step - loss: 0.0073\n",
            "Epoch 16/50\n",
            "51/51 [==============================] - 14s 266ms/step - loss: 0.0070\n",
            "Epoch 17/50\n",
            "51/51 [==============================] - 14s 266ms/step - loss: 0.0071\n",
            "Epoch 18/50\n",
            "51/51 [==============================] - 14s 266ms/step - loss: 0.0071\n",
            "Epoch 19/50\n",
            "51/51 [==============================] - 14s 266ms/step - loss: 0.0073\n",
            "Epoch 20/50\n",
            "51/51 [==============================] - 14s 265ms/step - loss: 0.0070\n",
            "Epoch 21/50\n",
            "51/51 [==============================] - 14s 266ms/step - loss: 0.0069\n",
            "Epoch 22/50\n",
            "51/51 [==============================] - 13s 265ms/step - loss: 0.0061\n",
            "Epoch 23/50\n",
            "51/51 [==============================] - 14s 265ms/step - loss: 0.0063\n",
            "Epoch 24/50\n",
            "51/51 [==============================] - 14s 267ms/step - loss: 0.0062\n",
            "Epoch 25/50\n",
            "51/51 [==============================] - 14s 268ms/step - loss: 0.0060\n",
            "Epoch 26/50\n",
            "51/51 [==============================] - 14s 267ms/step - loss: 0.0058\n",
            "Epoch 27/50\n",
            "51/51 [==============================] - 14s 268ms/step - loss: 0.0057\n",
            "Epoch 28/50\n",
            "51/51 [==============================] - 14s 265ms/step - loss: 0.0054\n",
            "Epoch 29/50\n",
            "51/51 [==============================] - 14s 266ms/step - loss: 0.0054\n",
            "Epoch 30/50\n",
            "51/51 [==============================] - 14s 267ms/step - loss: 0.0055\n",
            "Epoch 31/50\n",
            "51/51 [==============================] - 14s 267ms/step - loss: 0.0053\n",
            "Epoch 32/50\n",
            "51/51 [==============================] - 14s 268ms/step - loss: 0.0054\n",
            "Epoch 33/50\n",
            "51/51 [==============================] - 14s 267ms/step - loss: 0.0051\n",
            "Epoch 34/50\n",
            "51/51 [==============================] - 14s 266ms/step - loss: 0.0049\n",
            "Epoch 35/50\n",
            "51/51 [==============================] - 14s 265ms/step - loss: 0.0051\n",
            "Epoch 36/50\n",
            "51/51 [==============================] - 14s 265ms/step - loss: 0.0050\n",
            "Epoch 37/50\n",
            "51/51 [==============================] - 13s 264ms/step - loss: 0.0048\n",
            "Epoch 38/50\n",
            "51/51 [==============================] - 13s 263ms/step - loss: 0.0046\n",
            "Epoch 39/50\n",
            "51/51 [==============================] - 13s 265ms/step - loss: 0.0048\n",
            "Epoch 40/50\n",
            "51/51 [==============================] - 13s 261ms/step - loss: 0.0046\n",
            "Epoch 41/50\n",
            "51/51 [==============================] - 13s 263ms/step - loss: 0.0049\n",
            "Epoch 42/50\n",
            "51/51 [==============================] - 13s 261ms/step - loss: 0.0044\n",
            "Epoch 43/50\n",
            "51/51 [==============================] - 13s 264ms/step - loss: 0.0043\n",
            "Epoch 44/50\n",
            "51/51 [==============================] - 13s 264ms/step - loss: 0.0041\n",
            "Epoch 45/50\n",
            "51/51 [==============================] - 13s 263ms/step - loss: 0.0043\n",
            "Epoch 46/50\n",
            "51/51 [==============================] - 13s 264ms/step - loss: 0.0040\n",
            "Epoch 47/50\n",
            "51/51 [==============================] - 13s 262ms/step - loss: 0.0039\n",
            "Epoch 48/50\n",
            "51/51 [==============================] - 13s 264ms/step - loss: 0.0044\n",
            "Epoch 49/50\n",
            "51/51 [==============================] - 14s 268ms/step - loss: 0.0038\n",
            "Epoch 50/50\n",
            "51/51 [==============================] - 14s 268ms/step - loss: 0.0037\n"
          ]
        },
        {
          "output_type": "execute_result",
          "data": {
            "text/plain": [
              "<keras.callbacks.History at 0x7f15d0468650>"
            ]
          },
          "metadata": {},
          "execution_count": 23
        }
      ]
    },
    {
      "cell_type": "code",
      "source": [
        "model.save('keras_model.h5')"
      ],
      "metadata": {
        "id": "vKtsb5C7Do92"
      },
      "execution_count": null,
      "outputs": []
    },
    {
      "cell_type": "code",
      "source": [
        "data_testing.head()"
      ],
      "metadata": {
        "colab": {
          "base_uri": "https://localhost:8080/",
          "height": 206
        },
        "id": "DjFxTjifDsfS",
        "outputId": "78db1e13-3b3b-45e3-dfdc-73b350f5b51b"
      },
      "execution_count": null,
      "outputs": [
        {
          "output_type": "execute_result",
          "data": {
            "text/html": [
              "<div>\n",
              "<style scoped>\n",
              "    .dataframe tbody tr th:only-of-type {\n",
              "        vertical-align: middle;\n",
              "    }\n",
              "\n",
              "    .dataframe tbody tr th {\n",
              "        vertical-align: top;\n",
              "    }\n",
              "\n",
              "    .dataframe thead th {\n",
              "        text-align: right;\n",
              "    }\n",
              "</style>\n",
              "<table border=\"1\" class=\"dataframe\">\n",
              "  <thead>\n",
              "    <tr style=\"text-align: right;\">\n",
              "      <th></th>\n",
              "      <th>Close</th>\n",
              "    </tr>\n",
              "  </thead>\n",
              "  <tbody>\n",
              "    <tr>\n",
              "      <th>1722</th>\n",
              "      <td>1156.699951</td>\n",
              "    </tr>\n",
              "    <tr>\n",
              "      <th>1723</th>\n",
              "      <td>1175.849976</td>\n",
              "    </tr>\n",
              "    <tr>\n",
              "      <th>1724</th>\n",
              "      <td>1182.775024</td>\n",
              "    </tr>\n",
              "    <tr>\n",
              "      <th>1725</th>\n",
              "      <td>1180.675049</td>\n",
              "    </tr>\n",
              "    <tr>\n",
              "      <th>1726</th>\n",
              "      <td>1184.125000</td>\n",
              "    </tr>\n",
              "  </tbody>\n",
              "</table>\n",
              "</div>"
            ],
            "text/plain": [
              "            Close\n",
              "1722  1156.699951\n",
              "1723  1175.849976\n",
              "1724  1182.775024\n",
              "1725  1180.675049\n",
              "1726  1184.125000"
            ]
          },
          "metadata": {},
          "execution_count": 25
        }
      ]
    },
    {
      "cell_type": "code",
      "source": [
        "data_training.tail(100)"
      ],
      "metadata": {
        "colab": {
          "base_uri": "https://localhost:8080/",
          "height": 423
        },
        "id": "kUfTSDjlDvSH",
        "outputId": "15fa2569-5c38-4c01-dc8d-b93b199e2ca3"
      },
      "execution_count": null,
      "outputs": [
        {
          "output_type": "execute_result",
          "data": {
            "text/html": [
              "<div>\n",
              "<style scoped>\n",
              "    .dataframe tbody tr th:only-of-type {\n",
              "        vertical-align: middle;\n",
              "    }\n",
              "\n",
              "    .dataframe tbody tr th {\n",
              "        vertical-align: top;\n",
              "    }\n",
              "\n",
              "    .dataframe thead th {\n",
              "        text-align: right;\n",
              "    }\n",
              "</style>\n",
              "<table border=\"1\" class=\"dataframe\">\n",
              "  <thead>\n",
              "    <tr style=\"text-align: right;\">\n",
              "      <th></th>\n",
              "      <th>Close</th>\n",
              "    </tr>\n",
              "  </thead>\n",
              "  <tbody>\n",
              "    <tr>\n",
              "      <th>1622</th>\n",
              "      <td>1354.125000</td>\n",
              "    </tr>\n",
              "    <tr>\n",
              "      <th>1623</th>\n",
              "      <td>1349.599976</td>\n",
              "    </tr>\n",
              "    <tr>\n",
              "      <th>1624</th>\n",
              "      <td>1328.150024</td>\n",
              "    </tr>\n",
              "    <tr>\n",
              "      <th>1625</th>\n",
              "      <td>1326.000000</td>\n",
              "    </tr>\n",
              "    <tr>\n",
              "      <th>1626</th>\n",
              "      <td>1324.550049</td>\n",
              "    </tr>\n",
              "    <tr>\n",
              "      <th>...</th>\n",
              "      <td>...</td>\n",
              "    </tr>\n",
              "    <tr>\n",
              "      <th>1717</th>\n",
              "      <td>1156.800049</td>\n",
              "    </tr>\n",
              "    <tr>\n",
              "      <th>1718</th>\n",
              "      <td>1153.849976</td>\n",
              "    </tr>\n",
              "    <tr>\n",
              "      <th>1719</th>\n",
              "      <td>1144.050049</td>\n",
              "    </tr>\n",
              "    <tr>\n",
              "      <th>1720</th>\n",
              "      <td>1146.550049</td>\n",
              "    </tr>\n",
              "    <tr>\n",
              "      <th>1721</th>\n",
              "      <td>1161.699951</td>\n",
              "    </tr>\n",
              "  </tbody>\n",
              "</table>\n",
              "<p>100 rows × 1 columns</p>\n",
              "</div>"
            ],
            "text/plain": [
              "            Close\n",
              "1622  1354.125000\n",
              "1623  1349.599976\n",
              "1624  1328.150024\n",
              "1625  1326.000000\n",
              "1626  1324.550049\n",
              "...           ...\n",
              "1717  1156.800049\n",
              "1718  1153.849976\n",
              "1719  1144.050049\n",
              "1720  1146.550049\n",
              "1721  1161.699951\n",
              "\n",
              "[100 rows x 1 columns]"
            ]
          },
          "metadata": {},
          "execution_count": 26
        }
      ]
    },
    {
      "cell_type": "code",
      "source": [
        "past_100_days = data_training.tail(100)"
      ],
      "metadata": {
        "id": "33fFnJ1oDyxH"
      },
      "execution_count": null,
      "outputs": []
    },
    {
      "cell_type": "code",
      "source": [
        "final_df = past_100_days.append(data_testing,ignore_index=True)"
      ],
      "metadata": {
        "id": "a9utXGIZD1Fb"
      },
      "execution_count": null,
      "outputs": []
    },
    {
      "cell_type": "code",
      "source": [
        "final_df.head()"
      ],
      "metadata": {
        "colab": {
          "base_uri": "https://localhost:8080/",
          "height": 206
        },
        "id": "K7qdrDSAD3sw",
        "outputId": "03823159-9883-44af-e36a-961fbc9d8f20"
      },
      "execution_count": null,
      "outputs": [
        {
          "output_type": "execute_result",
          "data": {
            "text/html": [
              "<div>\n",
              "<style scoped>\n",
              "    .dataframe tbody tr th:only-of-type {\n",
              "        vertical-align: middle;\n",
              "    }\n",
              "\n",
              "    .dataframe tbody tr th {\n",
              "        vertical-align: top;\n",
              "    }\n",
              "\n",
              "    .dataframe thead th {\n",
              "        text-align: right;\n",
              "    }\n",
              "</style>\n",
              "<table border=\"1\" class=\"dataframe\">\n",
              "  <thead>\n",
              "    <tr style=\"text-align: right;\">\n",
              "      <th></th>\n",
              "      <th>Close</th>\n",
              "    </tr>\n",
              "  </thead>\n",
              "  <tbody>\n",
              "    <tr>\n",
              "      <th>0</th>\n",
              "      <td>1354.125000</td>\n",
              "    </tr>\n",
              "    <tr>\n",
              "      <th>1</th>\n",
              "      <td>1349.599976</td>\n",
              "    </tr>\n",
              "    <tr>\n",
              "      <th>2</th>\n",
              "      <td>1328.150024</td>\n",
              "    </tr>\n",
              "    <tr>\n",
              "      <th>3</th>\n",
              "      <td>1326.000000</td>\n",
              "    </tr>\n",
              "    <tr>\n",
              "      <th>4</th>\n",
              "      <td>1324.550049</td>\n",
              "    </tr>\n",
              "  </tbody>\n",
              "</table>\n",
              "</div>"
            ],
            "text/plain": [
              "         Close\n",
              "0  1354.125000\n",
              "1  1349.599976\n",
              "2  1328.150024\n",
              "3  1326.000000\n",
              "4  1324.550049"
            ]
          },
          "metadata": {},
          "execution_count": 29
        }
      ]
    },
    {
      "cell_type": "code",
      "source": [
        "input_data = scaler.fit_transform(final_df)\n",
        "input_data"
      ],
      "metadata": {
        "colab": {
          "base_uri": "https://localhost:8080/"
        },
        "id": "RKqlQj97D65F",
        "outputId": "3156aafb-5dcf-4f4f-b800-2a70edc740fd"
      },
      "execution_count": null,
      "outputs": [
        {
          "output_type": "execute_result",
          "data": {
            "text/plain": [
              "array([[0.24731647],\n",
              "       [0.24362972],\n",
              "       [0.22615344],\n",
              "       [0.22440171],\n",
              "       [0.22322037],\n",
              "       [0.22338328],\n",
              "       [0.22366842],\n",
              "       [0.23393421],\n",
              "       [0.24798859],\n",
              "       [0.25961913],\n",
              "       [0.24057442],\n",
              "       [0.21321933],\n",
              "       [0.21892256],\n",
              "       [0.2046441 ],\n",
              "       [0.18232001],\n",
              "       [0.20364605],\n",
              "       [0.19183222],\n",
              "       [0.18327738],\n",
              "       [0.17264489],\n",
              "       [0.16270502],\n",
              "       [0.18046644],\n",
              "       [0.16708428],\n",
              "       [0.16553625],\n",
              "       [0.16851009],\n",
              "       [0.15598336],\n",
              "       [0.13826261],\n",
              "       [0.09000925],\n",
              "       [0.10237297],\n",
              "       [0.10506167],\n",
              "       [0.09259601],\n",
              "       [0.09198495],\n",
              "       [0.10614117],\n",
              "       [0.126408  ],\n",
              "       [0.12439153],\n",
              "       [0.12720236],\n",
              "       [0.11278138],\n",
              "       [0.12096963],\n",
              "       [0.12219175],\n",
              "       [0.13644982],\n",
              "       [0.13113358],\n",
              "       [0.13714233],\n",
              "       [0.13429072],\n",
              "       [0.12650985],\n",
              "       [0.12384153],\n",
              "       [0.11618299],\n",
              "       [0.11716065],\n",
              "       [0.10862619],\n",
              "       [0.11371836],\n",
              "       [0.09277931],\n",
              "       [0.10797436],\n",
              "       [0.1064467 ],\n",
              "       [0.12182505],\n",
              "       [0.11974751],\n",
              "       [0.12221204],\n",
              "       [0.13341481],\n",
              "       [0.13302782],\n",
              "       [0.12111215],\n",
              "       [0.12021595],\n",
              "       [0.1291171 ],\n",
              "       [0.12121399],\n",
              "       [0.10137493],\n",
              "       [0.08265613],\n",
              "       [0.08892965],\n",
              "       [0.09345153],\n",
              "       [0.07165705],\n",
              "       [0.07416236],\n",
              "       [0.02798664],\n",
              "       [0.0221204 ],\n",
              "       [0.        ],\n",
              "       [0.00820863],\n",
              "       [0.03603226],\n",
              "       [0.01468583],\n",
              "       [0.00975667],\n",
              "       [0.01293411],\n",
              "       [0.01378963],\n",
              "       [0.02248709],\n",
              "       [0.03556372],\n",
              "       [0.08114887],\n",
              "       [0.07391799],\n",
              "       [0.06465025],\n",
              "       [0.07124968],\n",
              "       [0.06611673],\n",
              "       [0.04917006],\n",
              "       [0.03456568],\n",
              "       [0.0330788 ],\n",
              "       [0.0217538 ],\n",
              "       [0.03853757],\n",
              "       [0.03833388],\n",
              "       [0.04360935],\n",
              "       [0.04039114],\n",
              "       [0.04336498],\n",
              "       [0.06442617],\n",
              "       [0.07393828],\n",
              "       [0.07648437],\n",
              "       [0.09701605],\n",
              "       [0.08654657],\n",
              "       [0.08414301],\n",
              "       [0.07615855],\n",
              "       [0.07819542],\n",
              "       [0.09053875],\n",
              "       [0.08646502],\n",
              "       [0.10206744],\n",
              "       [0.1077096 ],\n",
              "       [0.10599865],\n",
              "       [0.10880949],\n",
              "       [0.11339244],\n",
              "       [0.09501986],\n",
              "       [0.07342907],\n",
              "       [0.08251351],\n",
              "       [0.08725947],\n",
              "       [0.09094612],\n",
              "       [0.0990733 ],\n",
              "       [0.06035244],\n",
              "       [0.06412064],\n",
              "       [0.07234957],\n",
              "       [0.07901016],\n",
              "       [0.07733989],\n",
              "       [0.07503827],\n",
              "       [0.08373563],\n",
              "       [0.08848159],\n",
              "       [0.10259705],\n",
              "       [0.10455246],\n",
              "       [0.0944088 ],\n",
              "       [0.05240866],\n",
              "       [0.02719218],\n",
              "       [0.04338527],\n",
              "       [0.05352893],\n",
              "       [0.05686937],\n",
              "       [0.0584378 ],\n",
              "       [0.06917203],\n",
              "       [0.08805383],\n",
              "       [0.12090846],\n",
              "       [0.12754867],\n",
              "       [0.12428968],\n",
              "       [0.12732459],\n",
              "       [0.14119568],\n",
              "       [0.12496181],\n",
              "       [0.16337715],\n",
              "       [0.14836549],\n",
              "       [0.12642839],\n",
              "       [0.15506677],\n",
              "       [0.15834614],\n",
              "       [0.14873209],\n",
              "       [0.15415018],\n",
              "       [0.16307162],\n",
              "       [0.16005709],\n",
              "       [0.15127817],\n",
              "       [0.16239949],\n",
              "       [0.16745088],\n",
              "       [0.17052657],\n",
              "       [0.17969247],\n",
              "       [0.18997865],\n",
              "       [0.16178843],\n",
              "       [0.17099501],\n",
              "       [0.17297081],\n",
              "       [0.15433347],\n",
              "       [0.15706286],\n",
              "       [0.15390571],\n",
              "       [0.14632863],\n",
              "       [0.13282414],\n",
              "       [0.12665247],\n",
              "       [0.13394441],\n",
              "       [0.13991249],\n",
              "       [0.13844591],\n",
              "       [0.13469809],\n",
              "       [0.12650985],\n",
              "       [0.12225282],\n",
              "       [0.12176399],\n",
              "       [0.13357782],\n",
              "       [0.13080766],\n",
              "       [0.12960593],\n",
              "       [0.11899383],\n",
              "       [0.09267746],\n",
              "       [0.08705579],\n",
              "       [0.08459116],\n",
              "       [0.08065995],\n",
              "       [0.09139428],\n",
              "       [0.08540591],\n",
              "       [0.09245349],\n",
              "       [0.08569105],\n",
              "       [0.08522261],\n",
              "       [0.08208575],\n",
              "       [0.07006824],\n",
              "       [0.07689174],\n",
              "       [0.0962013 ],\n",
              "       [0.09326823],\n",
              "       [0.08935741],\n",
              "       [0.09829924],\n",
              "       [0.10241375],\n",
              "       [0.0942255 ],\n",
              "       [0.10115085],\n",
              "       [0.10571341],\n",
              "       [0.1075263 ],\n",
              "       [0.13361849],\n",
              "       [0.14429176],\n",
              "       [0.17722784],\n",
              "       [0.16539362],\n",
              "       [0.17525214],\n",
              "       [0.17132093],\n",
              "       [0.18657704],\n",
              "       [0.21323972],\n",
              "       [0.19435792],\n",
              "       [0.19215814],\n",
              "       [0.18329777],\n",
              "       [0.18146459],\n",
              "       [0.1843162 ],\n",
              "       [0.18891944],\n",
              "       [0.2048274 ],\n",
              "       [0.24232614],\n",
              "       [0.20943074],\n",
              "       [0.17128025],\n",
              "       [0.16533256],\n",
              "       [0.15726654],\n",
              "       [0.14274372],\n",
              "       [0.1503412 ],\n",
              "       [0.12630616],\n",
              "       [0.12162137],\n",
              "       [0.13465732],\n",
              "       [0.1400754 ],\n",
              "       [0.12431007],\n",
              "       [0.11964566],\n",
              "       [0.10614117],\n",
              "       [0.09846224],\n",
              "       [0.10139531],\n",
              "       [0.09455142],\n",
              "       [0.10640603],\n",
              "       [0.11098898],\n",
              "       [0.10823921],\n",
              "       [0.10381917],\n",
              "       [0.10037688],\n",
              "       [0.09402181],\n",
              "       [0.13598128],\n",
              "       [0.15262253],\n",
              "       [0.13781446],\n",
              "       [0.14064569],\n",
              "       [0.12070478],\n",
              "       [0.11989003],\n",
              "       [0.12514521],\n",
              "       [0.14194936],\n",
              "       [0.13995317],\n",
              "       [0.15889604],\n",
              "       [0.17498729],\n",
              "       [0.19160815],\n",
              "       [0.18529386],\n",
              "       [0.15502599],\n",
              "       [0.1560852 ],\n",
              "       [0.1591405 ],\n",
              "       [0.16315307],\n",
              "       [0.15180778],\n",
              "       [0.15818313],\n",
              "       [0.17176908],\n",
              "       [0.16388636],\n",
              "       [0.16372345],\n",
              "       [0.16736943],\n",
              "       [0.16714535],\n",
              "       [0.16087184],\n",
              "       [0.15001528],\n",
              "       [0.15936458],\n",
              "       [0.1566351 ],\n",
              "       [0.16810272],\n",
              "       [0.17421332],\n",
              "       [0.1614829 ],\n",
              "       [0.15818313],\n",
              "       [0.16109591],\n",
              "       [0.15730732],\n",
              "       [0.15060605],\n",
              "       [0.15618704],\n",
              "       [0.16099407],\n",
              "       [0.14473981],\n",
              "       [0.14463797],\n",
              "       [0.15610559],\n",
              "       [0.14341585],\n",
              "       [0.14622678],\n",
              "       [0.1505042 ],\n",
              "       [0.14392506],\n",
              "       [0.15777576],\n",
              "       [0.15808129],\n",
              "       [0.1571647 ],\n",
              "       [0.16494557],\n",
              "       [0.16209396],\n",
              "       [0.16176804],\n",
              "       [0.15985341],\n",
              "       [0.1726245 ],\n",
              "       [0.16394753],\n",
              "       [0.16686021],\n",
              "       [0.15215399],\n",
              "       [0.16044408],\n",
              "       [0.15288728],\n",
              "       [0.13638865],\n",
              "       [0.14148082],\n",
              "       [0.13897552],\n",
              "       [0.13380189],\n",
              "       [0.14074753],\n",
              "       [0.14378254],\n",
              "       [0.14588048],\n",
              "       [0.16262356],\n",
              "       [0.18211633],\n",
              "       [0.18635307],\n",
              "       [0.19686322],\n",
              "       [0.20099812],\n",
              "       [0.19775953],\n",
              "       [0.19665954],\n",
              "       [0.19828903],\n",
              "       [0.19441898],\n",
              "       [0.18688257],\n",
              "       [0.17830744],\n",
              "       [0.19682255],\n",
              "       [0.20981772],\n",
              "       [0.21299525],\n",
              "       [0.20437934],\n",
              "       [0.21387107],\n",
              "       [0.21140654],\n",
              "       [0.22992164],\n",
              "       [0.24804976],\n",
              "       [0.25821371],\n",
              "       [0.25878399],\n",
              "       [0.24752015],\n",
              "       [0.26797028],\n",
              "       [0.24990333],\n",
              "       [0.24611474],\n",
              "       [0.26295957],\n",
              "       [0.24692948],\n",
              "       [0.24536105],\n",
              "       [0.23293616],\n",
              "       [0.23607292],\n",
              "       [0.23631738],\n",
              "       [0.23908754],\n",
              "       [0.23819134],\n",
              "       [0.23796727],\n",
              "       [0.22690702],\n",
              "       [0.21829111],\n",
              "       [0.21541911],\n",
              "       [0.21639686],\n",
              "       [0.21770044],\n",
              "       [0.21678385],\n",
              "       [0.21024548],\n",
              "       [0.20382935],\n",
              "       [0.22810885],\n",
              "       [0.20816784],\n",
              "       [0.21478766],\n",
              "       [0.18602715],\n",
              "       [0.18105721],\n",
              "       [0.19527451],\n",
              "       [0.19315619],\n",
              "       [0.19871679],\n",
              "       [0.20146656],\n",
              "       [0.222263  ],\n",
              "       [0.22336289],\n",
              "       [0.21132498],\n",
              "       [0.21419698],\n",
              "       [0.24444446],\n",
              "       [0.22179456],\n",
              "       [0.21592832],\n",
              "       [0.21896323],\n",
              "       [0.22647935],\n",
              "       [0.23955598],\n",
              "       [0.24982177],\n",
              "       [0.247622  ],\n",
              "       [0.28738169],\n",
              "       [0.28082293],\n",
              "       [0.27505864],\n",
              "       [0.26273559],\n",
              "       [0.30540796],\n",
              "       [0.32092883],\n",
              "       [0.33284451],\n",
              "       [0.34958759],\n",
              "       [0.4135859 ],\n",
              "       [0.40771977],\n",
              "       [0.43729512],\n",
              "       [0.41548025],\n",
              "       [0.44717393],\n",
              "       [0.42843475],\n",
              "       [0.41193612],\n",
              "       [0.42262968],\n",
              "       [0.42876057],\n",
              "       [0.4082086 ],\n",
              "       [0.3650474 ],\n",
              "       [0.34785626],\n",
              "       [0.35565742],\n",
              "       [0.35463899],\n",
              "       [0.35284658],\n",
              "       [0.33023735],\n",
              "       [0.33596097],\n",
              "       [0.33889404],\n",
              "       [0.33504438],\n",
              "       [0.34366029],\n",
              "       [0.38339959],\n",
              "       [0.3866178 ],\n",
              "       [0.3970466 ],\n",
              "       [0.37908139],\n",
              "       [0.38341998],\n",
              "       [0.38044613],\n",
              "       [0.38152563],\n",
              "       [0.40928819],\n",
              "       [0.38360328],\n",
              "       [0.37735006],\n",
              "       [0.36777678],\n",
              "       [0.38005915],\n",
              "       [0.38741216],\n",
              "       [0.32005302],\n",
              "       [0.3200937 ],\n",
              "       [0.31308689],\n",
              "       [0.29516246],\n",
              "       [0.29732156],\n",
              "       [0.31111119],\n",
              "       [0.30781143],\n",
              "       [0.29746418],\n",
              "       [0.29208677],\n",
              "       [0.29161833],\n",
              "       [0.30412468],\n",
              "       [0.30471535],\n",
              "       [0.32936144],\n",
              "       [0.33001328],\n",
              "       [0.32987066],\n",
              "       [0.3490376 ],\n",
              "       [0.34592123],\n",
              "       [0.33516651],\n",
              "       [0.34074761],\n",
              "       [0.37193197],\n",
              "       [0.42289443],\n",
              "       [0.42861805],\n",
              "       [0.44261126],\n",
              "       [0.43403613],\n",
              "       [0.43098083],\n",
              "       [0.44403707],\n",
              "       [0.5301151 ],\n",
              "       [0.5326408 ],\n",
              "       [0.52327121],\n",
              "       [0.55773504],\n",
              "       [0.58584381],\n",
              "       [0.55028009],\n",
              "       [0.58293113],\n",
              "       [0.56975256],\n",
              "       [0.56246062],\n",
              "       [0.56201246],\n",
              "       [0.53765151],\n",
              "       [0.54590082],\n",
              "       [0.56549553],\n",
              "       [0.54999495],\n",
              "       [0.55231696],\n",
              "       [0.54278446],\n",
              "       [0.56268459],\n",
              "       [0.56736939],\n",
              "       [0.56651396],\n",
              "       [0.57068954],\n",
              "       [0.59297285],\n",
              "       [0.57347999],\n",
              "       [0.56785831],\n",
              "       [0.61209901],\n",
              "       [0.60480707],\n",
              "       [0.57068954],\n",
              "       [0.57942768],\n",
              "       [0.57559841],\n",
              "       [0.56256246],\n",
              "       [0.55555556],\n",
              "       [0.56516961],\n",
              "       [0.54671557],\n",
              "       [0.55009679],\n",
              "       [0.55808135],\n",
              "       [0.56749162],\n",
              "       [0.56960994],\n",
              "       [0.59511156],\n",
              "       [0.63022713],\n",
              "       [0.60044819],\n",
              "       [0.6432224 ],\n",
              "       [0.63421941],\n",
              "       [0.63055305],\n",
              "       [0.62888278],\n",
              "       [0.62635708],\n",
              "       [0.61857631],\n",
              "       [0.62627563],\n",
              "       [0.65295859],\n",
              "       [0.65784707],\n",
              "       [0.6453814 ],\n",
              "       [0.64949592],\n",
              "       [0.65242898],\n",
              "       [0.6709238 ],\n",
              "       [0.66448728],\n",
              "       [0.67601597],\n",
              "       [0.70261737],\n",
              "       [0.67821574],\n",
              "       [0.67177922],\n",
              "       [0.75716474],\n",
              "       [0.75019861],\n",
              "       [0.7581424 ],\n",
              "       [0.76474183],\n",
              "       [0.77529286],\n",
              "       [0.77374482],\n",
              "       [0.75838686],\n",
              "       [0.77077097],\n",
              "       [0.77814447],\n",
              "       [0.77272639],\n",
              "       [0.75846832],\n",
              "       [0.74478053],\n",
              "       [0.72771162],\n",
              "       [0.72840413],\n",
              "       [0.72481923],\n",
              "       [0.75439458],\n",
              "       [0.73150021],\n",
              "       [0.75679804],\n",
              "       [0.75362061],\n",
              "       [0.74693963],\n",
              "       [0.75235771],\n",
              "       [0.75264286],\n",
              "       [0.76791936],\n",
              "       [0.77366337],\n",
              "       [0.77643352],\n",
              "       [0.78046648],\n",
              "       [0.78392916],\n",
              "       [0.78164783],\n",
              "       [0.78792144],\n",
              "       [0.80213873],\n",
              "       [0.80857525],\n",
              "       [0.81501167],\n",
              "       [0.82992158],\n",
              "       [0.83220291],\n",
              "       [0.8406762 ],\n",
              "       [0.83741721],\n",
              "       [0.81664117],\n",
              "       [0.85411952],\n",
              "       [0.83810983],\n",
              "       [0.83489162],\n",
              "       [0.83859875],\n",
              "       [0.83933195],\n",
              "       [0.81122318],\n",
              "       [0.80934922],\n",
              "       [0.8268255 ],\n",
              "       [0.83395454],\n",
              "       [0.83118448],\n",
              "       [0.83700984],\n",
              "       [0.8575822 ],\n",
              "       [0.93522762],\n",
              "       [0.92280273],\n",
              "       [0.88935733],\n",
              "       [0.92740617],\n",
              "       [0.9232101 ],\n",
              "       [0.98174975],\n",
              "       [0.90622275],\n",
              "       [0.82633677],\n",
              "       [0.85717483],\n",
              "       [0.8367248 ],\n",
              "       [0.84833494],\n",
              "       [0.80906408],\n",
              "       [0.75720542],\n",
              "       [0.70697635],\n",
              "       [0.73239641],\n",
              "       [0.74282521],\n",
              "       [0.71602002],\n",
              "       [0.70282106],\n",
              "       [0.69451068],\n",
              "       [0.64615547],\n",
              "       [0.65010698],\n",
              "       [0.65377334],\n",
              "       [0.60985846],\n",
              "       [0.66843878],\n",
              "       [0.6878298 ],\n",
              "       [0.72314906],\n",
              "       [0.72119364],\n",
              "       [0.70302475],\n",
              "       [0.68461149],\n",
              "       [0.71870863],\n",
              "       [0.72640804],\n",
              "       [0.69956207],\n",
              "       [0.70416541],\n",
              "       [0.72054181],\n",
              "       [0.67630111],\n",
              "       [0.66994604],\n",
              "       [0.68114881],\n",
              "       [0.69406253],\n",
              "       [0.6743457 ],\n",
              "       [0.62036871],\n",
              "       [0.62081686],\n",
              "       [0.64815156],\n",
              "       [0.68412266],\n",
              "       [0.76042373],\n",
              "       [0.74139941],\n",
              "       [0.74767292],\n",
              "       [0.75920161],\n",
              "       [0.78238112],\n",
              "       [0.77904068],\n",
              "       [0.76759344],\n",
              "       [0.76963031],\n",
              "       [0.7538243 ],\n",
              "       [0.77354113],\n",
              "       [0.78722892],\n",
              "       [0.75936452],\n",
              "       [0.76518998],\n",
              "       [0.76889712],\n",
              "       [0.76364194],\n",
              "       [0.74783583],\n",
              "       [0.73610355],\n",
              "       [0.68864454],\n",
              "       [0.70713926],\n",
              "       [0.68326714],\n",
              "       [0.69935839],\n",
              "       [0.68884823],\n",
              "       [0.68640399],\n",
              "       [0.69434777],\n",
              "       [0.71105008],\n",
              "       [0.69202566],\n",
              "       [0.67320503],\n",
              "       [0.69035549],\n",
              "       [0.68681136],\n",
              "       [0.68143395],\n",
              "       [0.68273763],\n",
              "       [0.64525927],\n",
              "       [0.62138715],\n",
              "       [0.66583163],\n",
              "       [0.66774627],\n",
              "       [0.68742242],\n",
              "       [0.69259605],\n",
              "       [0.6991547 ],\n",
              "       [0.69361448],\n",
              "       [0.6721866 ],\n",
              "       [0.69332934],\n",
              "       [0.70901322],\n",
              "       [0.73687752],\n",
              "       [0.75948675],\n",
              "       [0.75838686],\n",
              "       [0.78502905],\n",
              "       [0.79794276],\n",
              "       [0.81448217],\n",
              "       [0.80983815],\n",
              "       [0.83448424],\n",
              "       [0.84108357],\n",
              "       [0.82356651],\n",
              "       [0.82723288],\n",
              "       [0.81558215],\n",
              "       [0.80987883],\n",
              "       [0.79773908],\n",
              "       [0.74934319],\n",
              "       [0.69597727],\n",
              "       [0.70408396],\n",
              "       [0.70363581],\n",
              "       [0.71296472],\n",
              "       [0.76144216],\n",
              "       [0.8050718 ],\n",
              "       [0.82087801],\n",
              "       [0.76005703],\n",
              "       [0.76979332],\n",
              "       [0.76384563],\n",
              "       [0.77321521],\n",
              "       [0.78437731],\n",
              "       [0.79203585],\n",
              "       [0.78559943],\n",
              "       [0.78368469],\n",
              "       [0.77394851],\n",
              "       [0.76327534],\n",
              "       [0.80609023],\n",
              "       [0.7921174 ],\n",
              "       [0.7921174 ],\n",
              "       [0.78580311],\n",
              "       [0.77814447],\n",
              "       [0.76070887],\n",
              "       [0.75940529],\n",
              "       [0.74738778],\n",
              "       [0.7737856 ],\n",
              "       [0.79932789],\n",
              "       [0.8381506 ],\n",
              "       [0.8381506 ],\n",
              "       [0.78535496],\n",
              "       [0.81289345],\n",
              "       [0.83118448],\n",
              "       [0.84809048],\n",
              "       [0.8063347 ],\n",
              "       [0.7894287 ],\n",
              "       [0.78535496],\n",
              "       [0.865852  ],\n",
              "       [0.88092482],\n",
              "       [0.89579395],\n",
              "       [0.90508198],\n",
              "       [0.89986768],\n",
              "       [0.92300642],\n",
              "       [0.93241678],\n",
              "       [0.96789905],\n",
              "       [0.98566057],\n",
              "       [0.94903754],\n",
              "       [0.88108773],\n",
              "       [0.90214901],\n",
              "       [0.89734189],\n",
              "       [0.89807528],\n",
              "       [0.91412575],\n",
              "       [0.8841838 ],\n",
              "       [0.8784398 ],\n",
              "       [0.84878309],\n",
              "       [0.85126791],\n",
              "       [0.86214486],\n",
              "       [0.85130869],\n",
              "       [0.89082391],\n",
              "       [0.86295961],\n",
              "       [0.84014669],\n",
              "       [0.81757824],\n",
              "       [0.81264899],\n",
              "       [0.81847435],\n",
              "       [0.83362872],\n",
              "       [0.8611672 ],\n",
              "       [0.89273865],\n",
              "       [0.93367968],\n",
              "       [0.97095435],\n",
              "       [0.92272137],\n",
              "       [0.90887068],\n",
              "       [0.92162139],\n",
              "       [0.96215505],\n",
              "       [0.97950919],\n",
              "       [0.98610853],\n",
              "       [0.98056841],\n",
              "       [0.98089422],\n",
              "       [0.97657603],\n",
              "       [0.97792048],\n",
              "       [0.98529378],\n",
              "       [1.        ],\n",
              "       [0.97710573],\n",
              "       [0.99800391],\n",
              "       [0.9917304 ],\n",
              "       [0.98064976],\n",
              "       [0.97930551],\n",
              "       [0.95865159],\n",
              "       [0.9687138 ],\n",
              "       [0.97893891],\n",
              "       [0.96716566],\n",
              "       [0.97123939],\n",
              "       [0.90642644],\n",
              "       [0.91644766],\n",
              "       [0.88218771],\n",
              "       [0.86169671],\n",
              "       [0.85709347],\n",
              "       [0.86120798],\n",
              "       [0.89224972],\n",
              "       [0.85990431],\n",
              "       [0.86907021],\n",
              "       [0.82727365],\n",
              "       [0.83623587],\n",
              "       [0.86308174],\n",
              "       [0.86515938],\n",
              "       [0.85240868],\n",
              "       [0.87774718],\n",
              "       [0.86238932],\n",
              "       [0.87945823],\n",
              "       [0.91950296],\n",
              "       [0.94113454],\n",
              "       [0.92023636],\n",
              "       [0.94080872],\n",
              "       [0.9760873 ],\n",
              "       [0.94863017],\n",
              "       [0.94744882],\n",
              "       [0.98382739],\n",
              "       [0.97417256],\n",
              "       [0.93604237],\n",
              "       [0.94007532],\n",
              "       [0.90805593],\n",
              "       [0.90634488],\n",
              "       [0.92569512],\n",
              "       [0.92524697],\n",
              "       [0.94952647],\n",
              "       [0.97535391],\n",
              "       [0.99865575],\n",
              "       [0.96622878],\n",
              "       [0.96846933],\n",
              "       [0.96374376],\n",
              "       [0.98504951],\n",
              "       [0.97853154],\n",
              "       [0.97347995],\n",
              "       [0.94895619],\n",
              "       [0.93445365],\n",
              "       [0.92251769],\n",
              "       [0.89901216],\n",
              "       [0.8823914 ],\n",
              "       [0.88919442],\n",
              "       [0.89575317],\n",
              "       [0.87346976],\n",
              "       [0.88642436],\n",
              "       [0.85660454],\n",
              "       [0.82686628],\n",
              "       [0.78641417],\n",
              "       [0.80996028],\n",
              "       [0.84560546],\n",
              "       [0.84491304],\n",
              "       [0.81928909],\n",
              "       [0.85444554],\n",
              "       [0.82238517],\n",
              "       [0.82262964],\n",
              "       [0.83819138],\n",
              "       [0.81240452],\n",
              "       [0.78991753],\n",
              "       [0.77716672],\n",
              "       [0.76282719],\n",
              "       [0.79065082],\n",
              "       [0.80393123],\n",
              "       [0.81134541],\n",
              "       [0.79875751],\n",
              "       [0.82026695],\n",
              "       [0.81541905],\n",
              "       [0.83065497],\n",
              "       [0.84035038],\n",
              "       [0.87534372],\n",
              "       [0.86780731],\n",
              "       [0.93229465],\n",
              "       [0.97950919],\n",
              "       [0.99323756],\n",
              "       [0.93722371],\n",
              "       [0.93156126],\n",
              "       [0.93799788],\n",
              "       [0.92712093],\n",
              "       [0.92455455],\n",
              "       [0.87941746],\n",
              "       [0.8557898 ],\n",
              "       [0.91905501],\n",
              "       [0.93388337],\n",
              "       [0.91567369],\n",
              "       [0.89787159],\n",
              "       [0.86218564],\n",
              "       [0.86198195],\n",
              "       [0.86976282],\n",
              "       [0.83195845],\n",
              "       [0.83994301],\n",
              "       [0.8115491 ],\n",
              "       [0.81778193],\n",
              "       [0.83656189],\n",
              "       [0.81692641],\n",
              "       [0.7906916 ],\n",
              "       [0.81509323],\n",
              "       [0.83749877],\n",
              "       [0.87236997],\n",
              "       [0.87424393],\n",
              "       [0.82279255],\n",
              "       [0.78401061],\n",
              "       [0.80767905],\n",
              "       [0.79056936],\n",
              "       [0.83159185],\n",
              "       [0.87681031],\n",
              "       [0.9079336 ],\n",
              "       [0.91021493],\n",
              "       [0.96015896],\n",
              "       [0.95514814],\n",
              "       [0.96231795],\n",
              "       [0.94920065],\n",
              "       [0.93807923],\n",
              "       [0.9352684 ],\n",
              "       [0.92280273]])"
            ]
          },
          "metadata": {},
          "execution_count": 30
        }
      ]
    },
    {
      "cell_type": "code",
      "source": [
        "input_data.shape"
      ],
      "metadata": {
        "colab": {
          "base_uri": "https://localhost:8080/"
        },
        "id": "dVNLkKyLD-pp",
        "outputId": "6d42f301-b5ac-4a71-d795-e9e633c13ab1"
      },
      "execution_count": null,
      "outputs": [
        {
          "output_type": "execute_result",
          "data": {
            "text/plain": [
              "(839, 1)"
            ]
          },
          "metadata": {},
          "execution_count": 31
        }
      ]
    },
    {
      "cell_type": "code",
      "source": [
        "x_test = []\n",
        "y_test = []\n",
        "\n",
        "for i in range(100,input_data.shape[0]):\n",
        "  x_test.append(input_data[i-100:i])\n",
        "  y_test.append(input_data[i,0])"
      ],
      "metadata": {
        "id": "l4kfzxxaEA8g"
      },
      "execution_count": null,
      "outputs": []
    },
    {
      "cell_type": "code",
      "source": [
        "x_test, y_test = np.array(x_test), np.array(y_test)\n",
        "print(x_test.shape)\n",
        "print(y_test.shape)"
      ],
      "metadata": {
        "colab": {
          "base_uri": "https://localhost:8080/"
        },
        "id": "ooR5S2lHEDlu",
        "outputId": "ff715c3b-4d37-4481-ce5d-009fd0abcc6b"
      },
      "execution_count": null,
      "outputs": [
        {
          "output_type": "stream",
          "name": "stdout",
          "text": [
            "(739, 100, 1)\n",
            "(739,)\n"
          ]
        }
      ]
    },
    {
      "cell_type": "code",
      "source": [
        "# Making Predictions\n",
        "y_predicted = model.predict(x_test)"
      ],
      "metadata": {
        "id": "Z3unKlF0EGGq"
      },
      "execution_count": null,
      "outputs": []
    },
    {
      "cell_type": "code",
      "source": [
        "y_predicted.shape"
      ],
      "metadata": {
        "colab": {
          "base_uri": "https://localhost:8080/"
        },
        "id": "6Ux9UHb7EJuu",
        "outputId": "630ef223-6ece-4c67-d7d0-5cea11ebf340"
      },
      "execution_count": null,
      "outputs": [
        {
          "output_type": "execute_result",
          "data": {
            "text/plain": [
              "(739, 1)"
            ]
          },
          "metadata": {},
          "execution_count": 35
        }
      ]
    },
    {
      "cell_type": "code",
      "source": [
        "scaler.scale_"
      ],
      "metadata": {
        "colab": {
          "base_uri": "https://localhost:8080/"
        },
        "id": "-hbpDmd9EN-0",
        "outputId": "08a1f05c-9495-4c88-f4e7-1e667b49b715"
      },
      "execution_count": null,
      "outputs": [
        {
          "output_type": "execute_result",
          "data": {
            "text/plain": [
              "array([0.00081475])"
            ]
          },
          "metadata": {},
          "execution_count": 36
        }
      ]
    },
    {
      "cell_type": "code",
      "source": [
        "scale_factor = 1/0.00081475\n",
        "y_predicted = y_predicted * scale_factor\n",
        "y_test = y_test * scale_factor"
      ],
      "metadata": {
        "id": "xs20n_rnElKh"
      },
      "execution_count": null,
      "outputs": []
    },
    {
      "cell_type": "code",
      "source": [
        "plt.figure(figsize=(12,6))\n",
        "plt.plot(y_test, 'b', label = 'Original Price')\n",
        "plt.plot(y_predicted, 'r', label = 'Predicted Price')\n",
        "plt.xlabel('Time')\n",
        "plt.ylabel('Price')\n",
        "plt.legend()\n",
        "plt.show()"
      ],
      "metadata": {
        "id": "6335VK5WEq7U",
        "outputId": "8c6e2f44-a5b8-4b43-fc2b-ec7fee38cc69",
        "colab": {
          "base_uri": "https://localhost:8080/",
          "height": 388
        }
      },
      "execution_count": null,
      "outputs": [
        {
          "output_type": "display_data",
          "data": {
            "image/png": "[encoded data removed]",
            "text/plain": [
              "<Figure size 864x432 with 1 Axes>"
            ]
          },
          "metadata": {
            "needs_background": "light"
          }
        }
      ]
    }
  ]
}